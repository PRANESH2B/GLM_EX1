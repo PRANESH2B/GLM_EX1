{
  "nbformat": 4,
  "nbformat_minor": 0,
  "metadata": {
    "colab": {
      "provenance": [],
      "authorship_tag": "ABX9TyMCSWHZpaHQZm4QTl/fe4zf",
      "include_colab_link": true
    },
    "kernelspec": {
      "name": "python3",
      "display_name": "Python 3"
    },
    "language_info": {
      "name": "python"
    }
  },
  "cells": [
    {
      "cell_type": "markdown",
      "metadata": {
        "id": "view-in-github",
        "colab_type": "text"
      },
      "source": [
        "<a href=\"https://colab.research.google.com/github/PRANESH2B/GLM_EX1/blob/main/GLM_EX1.ipynb\" target=\"_parent\"><img src=\"https://colab.research.google.com/assets/colab-badge.svg\" alt=\"Open In Colab\"/></a>"
      ]
    },
    {
      "cell_type": "code",
      "source": [
        "#1\n",
        "hourly_rate = 250\n",
        "overtime_rate = 100\n",
        "total_hours = 56\n",
        "normal_hours = 48\n",
        "overtime_hours = total_hours - normal_hours\n",
        "\n",
        "if total_hours > normal_hours:\n",
        "    regular_pay = normal_hours * hourly_rate\n",
        "\n",
        "    overtime_pay = overtime_hours * overtime_rate\n",
        "else:\n",
        "    regular_pay = total_hours * hourly_rate\n",
        "\n",
        "\n",
        "weekly_income = regular_pay + overtime_pay\n",
        "monthly_income = weekly_income * 4\n",
        "annual_income = monthly_income * 12\n",
        "\n",
        "\n",
        "# Output\n",
        "print(\"Rs :\",monthly_income)\n",
        "print(\"Rs :\",annual_income)"
      ],
      "metadata": {
        "colab": {
          "base_uri": "https://localhost:8080/"
        },
        "id": "lHvrFhCtTt89",
        "outputId": "30517e2a-c6a8-4b8a-f191-3c482ff697c7"
      },
      "execution_count": null,
      "outputs": [
        {
          "output_type": "stream",
          "name": "stdout",
          "text": [
            "Rs : 51200\n",
            "Rs : 614400\n"
          ]
        }
      ]
    },
    {
      "cell_type": "code",
      "source": [
        "#2\n",
        "units = 350\n",
        "if units <= 100:\n",
        "    bill = units * 0.50\n",
        "elif units <= 200:\n",
        "    bill = (100 * 0.50) + ((units - 100) * 0.75)\n",
        "elif units <= 300:\n",
        "    bill = (100 * 0.50) + (100 * 0.75) + ((units - 200) * 1.20)\n",
        "else:\n",
        "    bill = (100 * 0.50) + (100 * 0.75) + (100 * 1.20) + ((units - 300) * 1.50)\n",
        "comm_bill = bill * 2\n",
        "\n",
        "# Output\n",
        "print(\"Unit :\", units)\n",
        "print(\"Household Bill:\", bill)\n",
        "print(\"Commercial Bill:\", comm_bill)"
      ],
      "metadata": {
        "colab": {
          "base_uri": "https://localhost:8080/"
        },
        "id": "qcA2MifdTetQ",
        "outputId": "8ecffd1e-4be2-4422-8479-9f66f632b6e0"
      },
      "execution_count": null,
      "outputs": [
        {
          "output_type": "stream",
          "name": "stdout",
          "text": [
            "Unit : 350\n",
            "Household Bill: 320.0\n",
            "Commercial Bill: 640.0\n"
          ]
        }
      ]
    },
    {
      "cell_type": "code",
      "source": [
        "#3\n",
        "class Quiz:\n",
        "    def __init__(self):\n",
        "        self.score = 0\n",
        "\n",
        "    def ask_question(self, question, correct_answer):\n",
        "        user_answer = input(question + \" \")\n",
        "        if user_answer.lower() == correct_answer.lower():\n",
        "            self.score += 2\n",
        "        else:\n",
        "            self.score -= 1\n",
        "quiz = Quiz()\n",
        "quiz.ask_question(\"1. What color is the sun?\", \"Yellow\")\n",
        "quiz.ask_question(\"2. who the president of tye india\", \"murmu\")\n",
        "quiz.ask_question(\"3. who the director for the anbesivam movie \", \"sunder c\")\n",
        "quiz.ask_question(\"4. is ocean and the sea is the same \", \"yes\")\n",
        "quiz.ask_question(\"5. is human memory vulnerable to suggestive language \", \"yes\")\n",
        "\n",
        "# output\n",
        "print(\"\\nYour total score :\", quiz.score)"
      ],
      "metadata": {
        "colab": {
          "base_uri": "https://localhost:8080/"
        },
        "id": "oxQIkYDQT2Ut",
        "outputId": "775d8035-350a-44eb-dfad-c7ade66fb211"
      },
      "execution_count": null,
      "outputs": [
        {
          "output_type": "stream",
          "name": "stdout",
          "text": [
            "1. What color is the sun? L\n",
            "2. who the president of tye india L\n",
            "3. who the director for the anbesivam movie  ;\n",
            "4. is ocean and the sea is the same  ;\n",
            "5. is human memory vulnerable to suggestive language  ;\n",
            "\n",
            "Your total score : -5\n"
          ]
        }
      ]
    },
    {
      "cell_type": "code",
      "source": [
        "#4\n",
        "class Employee:\n",
        "    def __init__(self, basic_salary):\n",
        "        self.basic = basic_salary\n",
        "\n",
        "class Salary(Employee):\n",
        "    def calculate(self):\n",
        "        da = 0.20 * self.basic\n",
        "        hra = 0.10 * self.basic\n",
        "        pf = 0.12 * self.basic\n",
        "        ta = 0.075 * self.basic\n",
        "        emi = 0.02 * self.basic\n",
        "\n",
        "        gross = self.basic + da + hra + pf + ta\n",
        "        net = gross - emi\n",
        "\n",
        "        print(\"Gross Salary: Rs\", gross)\n",
        "        print(\"Net Salary: Rs\", net)\n",
        "\n",
        "# OUTPUT\n",
        "basic_salary = float(input(\"Basic Salary: \"))\n",
        "emp = Salary(basic_salary)\n",
        "emp.calculate()\n"
      ],
      "metadata": {
        "colab": {
          "base_uri": "https://localhost:8080/"
        },
        "id": "nwNIE0B1T8Sw",
        "outputId": "c2d663f2-1b3b-49c1-ddc3-36f204365cf4"
      },
      "execution_count": null,
      "outputs": [
        {
          "output_type": "stream",
          "name": "stdout",
          "text": [
            "Basic Salary: 1000000\n",
            "Gross Salary: Rs 1495000.0\n",
            "Net Salary: Rs 1475000.0\n"
          ]
        }
      ]
    }
  ]
}